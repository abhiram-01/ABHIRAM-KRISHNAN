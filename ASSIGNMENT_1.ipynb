{
  "nbformat": 4,
  "nbformat_minor": 0,
  "metadata": {
    "colab": {
      "name": "ASSIGNMENT 1.ipynb",
      "provenance": [],
      "collapsed_sections": []
    },
    "kernelspec": {
      "name": "python3",
      "display_name": "Python 3"
    }
  },
  "cells": [
    {
      "cell_type": "markdown",
      "metadata": {
        "id": "mejdtKt2uhXv"
      },
      "source": [
        "##ASSIGNMENT 1"
      ]
    },
    {
      "cell_type": "markdown",
      "metadata": {
        "id": "6B-kqVezUx0P"
      },
      "source": [
        "##Question 1 & 2"
      ]
    },
    {
      "cell_type": "code",
      "metadata": {
        "id": "Nw195wTZTCik"
      },
      "source": [
        "int(input(\"Enter A Number \")) + 3"
      ],
      "execution_count": null,
      "outputs": []
    },
    {
      "cell_type": "code",
      "metadata": {
        "id": "t2RTC8GRS5re"
      },
      "source": [
        "int(input(\"Enter A Number \")) - 3"
      ],
      "execution_count": null,
      "outputs": []
    },
    {
      "cell_type": "code",
      "metadata": {
        "id": "EIdUkFX6TGwN"
      },
      "source": [
        "int(input (\"Enter A Number\")) * 3 "
      ],
      "execution_count": null,
      "outputs": []
    },
    {
      "cell_type": "code",
      "metadata": {
        "id": "lXlOhYUqS_Q1"
      },
      "source": [
        "int(input (\"Enter A Number \")) / 3"
      ],
      "execution_count": null,
      "outputs": []
    },
    {
      "cell_type": "markdown",
      "metadata": {
        "id": "R1uStOHaUtth"
      },
      "source": [
        "##Question 3"
      ]
    },
    {
      "cell_type": "code",
      "metadata": {
        "id": "1GYfzP5aUECZ"
      },
      "source": [
        "a = 10 \r\n",
        "b = 20 \r\n",
        "a + b "
      ],
      "execution_count": null,
      "outputs": []
    },
    {
      "cell_type": "code",
      "metadata": {
        "id": "8JloNa9BUKFx"
      },
      "source": [
        "a = 10 \r\n",
        "b = 20 \r\n",
        "a - b "
      ],
      "execution_count": null,
      "outputs": []
    },
    {
      "cell_type": "code",
      "metadata": {
        "id": "dITWbHaHUKqp"
      },
      "source": [
        "a = 10 \r\n",
        "b = 20 \r\n",
        "a * b "
      ],
      "execution_count": null,
      "outputs": []
    },
    {
      "cell_type": "code",
      "metadata": {
        "id": "OpkdXtCVUK-R"
      },
      "source": [
        "a = 10 \r\n",
        "b = 20 \r\n",
        "a / b "
      ],
      "execution_count": null,
      "outputs": []
    },
    {
      "cell_type": "markdown",
      "metadata": {
        "id": "okv6SHW7Umuw"
      },
      "source": [
        "##Question 4"
      ]
    },
    {
      "cell_type": "code",
      "metadata": {
        "id": "-T4Wbg8bT3Nl"
      },
      "source": [
        "a = int( input ( \"first variable  \")) \r\n",
        "b = int( input ( \"second variable \")) \r\n",
        "a + b"
      ],
      "execution_count": null,
      "outputs": []
    },
    {
      "cell_type": "code",
      "metadata": {
        "id": "siYYfaImEzhL"
      },
      "source": [
        "a = int( input ( \"first variable  \")) \r\n",
        "b = int( input ( \"second variable \")) \r\n",
        "a - b"
      ],
      "execution_count": null,
      "outputs": []
    },
    {
      "cell_type": "code",
      "metadata": {
        "id": "vbxvgImGUb4A"
      },
      "source": [
        "a = int( input ( \"first variable  \")) \r\n",
        "b = int( input ( \"second variable \")) \r\n",
        "a * b"
      ],
      "execution_count": null,
      "outputs": []
    },
    {
      "cell_type": "code",
      "metadata": {
        "id": "2hYljkv8UcM4"
      },
      "source": [
        "a = int( input ( \"first variable  \")) \r\n",
        "b = int( input ( \"second variable \")) \r\n",
        "a / b"
      ],
      "execution_count": null,
      "outputs": []
    }
  ]
}