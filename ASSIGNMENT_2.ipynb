{
  "nbformat": 4,
  "nbformat_minor": 0,
  "metadata": {
    "colab": {
      "name": "ASSIGNMENT 2.ipynb",
      "provenance": [],
      "collapsed_sections": []
    },
    "kernelspec": {
      "name": "python3",
      "display_name": "Python 3"
    }
  },
  "cells": [
    {
      "cell_type": "markdown",
      "metadata": {
        "id": "EFnIdhxI_k1y"
      },
      "source": [
        "##QUESTION 1"
      ]
    },
    {
      "cell_type": "code",
      "metadata": {
        "id": "sWiI0HtOGbFK",
        "colab": {
          "base_uri": "https://localhost:8080/"
        },
        "outputId": "0c9bdbef-5e22-4518-d09f-7df88b532d0c"
      },
      "source": [
        "mark = int (input(\"Enter the mark \"))\n",
        " \n",
        "if mark > 90 :\n",
        "  print ( \"A-Grade\")\n",
        "elif mark >= 80 :\n",
        "  print ( \"B-Grade\")\n",
        "elif mark >= 70 :\n",
        "  print ( \"C-Grade\")\n",
        "elif mark >= 60 :\n",
        "  print ( \"D-Grade\")\n",
        "elif mark >= 50 :\n",
        "  print ( \"E-Grade\")\n",
        "else :\n",
        "  print (\" Failed\")"
      ],
      "execution_count": 2,
      "outputs": [
        {
          "output_type": "stream",
          "text": [
            "Enter the mark 73\n",
            "C-Grade\n"
          ],
          "name": "stdout"
        }
      ]
    },
    {
      "cell_type": "markdown",
      "metadata": {
        "id": "FSUbWL2SV8AU"
      },
      "source": [
        "##QUESTION 2\r\n"
      ]
    },
    {
      "cell_type": "code",
      "metadata": {
        "id": "Gq8k4H-B_odJ",
        "colab": {
          "base_uri": "https://localhost:8080/"
        },
        "outputId": "d0c6ce53-05bd-47a2-ce8e-6e6dfd6fe524"
      },
      "source": [
        "username = 'abhiram'\n",
        "password = '1999'\n",
        "OTP = '1010'\n",
        "name = input (\"Enter the username \")\n",
        "\n",
        "if name == username :\n",
        "  user_password = input(\"Enter the password \")\n",
        "  if user_password == password :\n",
        "    user_code = input(\"Enter the OTP \")\n",
        "    if user_code == OTP :\n",
        "      print ( \"Welcome \" + username )\n",
        "      print ( \"How are you!\") \n",
        "    else :\n",
        "      print ( \"Incorrect OTP\" )\n",
        "      print ( \"try again!\")\n",
        "  else :\n",
        "    print ( \"Password incorrect\" )\n",
        "    print ( \"try again!\")\n",
        "else : \n",
        "  print (\"Invalid usernme\")"
      ],
      "execution_count": 3,
      "outputs": [
        {
          "output_type": "stream",
          "text": [
            "Enter the username abhiram\n",
            "Enter the password 1999\n",
            "Enter the OTP 1010\n",
            "Welcome abhiram\n",
            "How are you!\n"
          ],
          "name": "stdout"
        }
      ]
    },
    {
      "cell_type": "markdown",
      "metadata": {
        "id": "x1t3td-VXB-7"
      },
      "source": [
        "##Question 3\r\n"
      ]
    },
    {
      "cell_type": "code",
      "metadata": {
        "id": "b2f98SoTDSH3",
        "colab": {
          "base_uri": "https://localhost:8080/"
        },
        "outputId": "571f76eb-5255-49de-b7e7-bdb9bb7dd8f9"
      },
      "source": [
        "student_marks = {\n",
        "    \"ram\" : 95,\n",
        "    \"roy\": 87,\n",
        "    \"raj\": 83,\n",
        "    \"ravi\" : 72,\n",
        "    \"raju\": 55\n",
        "}\n",
        "student_marks.keys()\n",
        "for key in student_marks.keys() :\n",
        "  if student_marks[key] < 60 :\n",
        "    print (key + \" has failed\")\n"
      ],
      "execution_count": 4,
      "outputs": [
        {
          "output_type": "stream",
          "text": [
            "raju has failed\n"
          ],
          "name": "stdout"
        }
      ]
    }
  ]
}